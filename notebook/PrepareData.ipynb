{
 "cells": [
  {
   "cell_type": "code",
   "execution_count": 1,
   "id": "b7303366-f582-4485-b0e4-4ef9afff699a",
   "metadata": {},
   "outputs": [],
   "source": [
    "import glob\n",
    "from collections import namedtuple\n",
    "\n",
    "import json\n",
    "import pandas as pd\n",
    "from tqdm import tqdm"
   ]
  },
  {
   "cell_type": "code",
   "execution_count": 2,
   "id": "3562169a-daa3-4d64-973f-ce24dc7fe462",
   "metadata": {},
   "outputs": [],
   "source": [
    "DATA_DIR = \"/home/toor/Desktop/\"\n",
    "experiment = \"AA\""
   ]
  },
  {
   "cell_type": "code",
   "execution_count": 3,
   "id": "5d1f7657-357b-49a1-b070-0d6cbc1a9eef",
   "metadata": {},
   "outputs": [],
   "source": [
    "data = pd.concat([\n",
    "    pd.read_json(data_path, lines=True) \n",
    "    for data_path \n",
    "    in glob.glob(DATA_DIR + '/data/*/data.*')\n",
    "])"
   ]
  },
  {
   "cell_type": "code",
   "execution_count": 4,
   "id": "70a862ff-64c2-4046-b77a-2eac921fb3da",
   "metadata": {},
   "outputs": [],
   "source": [
    "# data[\"rnd\"] = np.random.random(len(data))\n",
    "data[\"treatment\"] = data[\"experiments\"].map(lambda experiments: experiments[experiment])\n",
    "\n",
    "data = data[['user', 'track', 'message', 'timestamp', 'time', 'treatment']]"
   ]
  },
  {
   "cell_type": "code",
   "execution_count": 6,
   "id": "fcbfa0ba-86de-4275-a874-85aaf87461b6",
   "metadata": {},
   "outputs": [],
   "source": [
    "track_meta = pd.read_json(\"../data/tracks.json\", lines=True)\n",
    "data = pd.merge(data, track_meta[['artist','track']], on=\"track\")"
   ]
  },
  {
   "cell_type": "code",
   "execution_count": 7,
   "id": "e332b155-d794-49e2-b4c0-2b859c37ced2",
   "metadata": {},
   "outputs": [
    {
     "data": {
      "text/plain": [
       "(23755873, 7)"
      ]
     },
     "execution_count": 7,
     "metadata": {},
     "output_type": "execute_result"
    }
   ],
   "source": [
    "data.shape"
   ]
  },
  {
   "cell_type": "code",
   "execution_count": 8,
   "id": "b64532f3-5964-4984-bb3f-d11014d0a39d",
   "metadata": {},
   "outputs": [
    {
     "data": {
      "text/plain": [
       "user                               9999\n",
       "track                             49999\n",
       "message                            next\n",
       "timestamp    2024-11-29 00:56:38.141000\n",
       "time                                1.0\n",
       "treatment                            T1\n",
       "artist                               阿楷\n",
       "dtype: object"
      ]
     },
     "execution_count": 8,
     "metadata": {},
     "output_type": "execute_result"
    }
   ],
   "source": [
    "data.max()"
   ]
  },
  {
   "cell_type": "code",
   "execution_count": 9,
   "id": "7ac241d3-4c4c-4598-a6a3-d5a0ea284316",
   "metadata": {},
   "outputs": [],
   "source": [
    "Session = namedtuple(\"Session\", [\"timestamp\", \"track\", \"time\", \"artist\"])\n",
    "\n",
    "def sessionize(user_data):\n",
    "    sessions = []\n",
    "    session = None\n",
    "    for _, row in user_data.sort_values(\"timestamp\").iterrows():\n",
    "        if session is None:\n",
    "            session = Session(row['timestamp'], [], [], [])\n",
    "\n",
    "        if (not row['track'] in session.track) and (not row['artist'] in session.artist):\n",
    "            session.track.append(row['track'])\n",
    "            session.artist.append(row['artist'])\n",
    "            session.time.append(row['time'])\n",
    "\n",
    "        if row[\"message\"] == \"last\":\n",
    "            sessions.append(session._asdict())\n",
    "            session = None\n",
    "    return sessions"
   ]
  },
  {
   "cell_type": "code",
   "execution_count": 10,
   "id": "b7318525-4a00-44d9-9d3c-ba202d78c12e",
   "metadata": {},
   "outputs": [
    {
     "name": "stderr",
     "output_type": "stream",
     "text": [
      "/tmp/ipykernel_292197/2354129256.py:4: DeprecationWarning: DataFrameGroupBy.apply operated on the grouping columns. This behavior is deprecated, and in a future version of pandas the grouping columns will be excluded from the operation. Either pass `include_groups=False` to exclude the groupings or explicitly select the grouping columns after groupby to silence this warning.\n",
      "  .apply(sessionize)\n"
     ]
    }
   ],
   "source": [
    "sessions = (\n",
    "    data\n",
    "    .groupby([\"user\", \"treatment\"])\n",
    "    .apply(sessionize)\n",
    "    .explode()\n",
    "    .apply(pd.Series)\n",
    ")"
   ]
  },
  {
   "cell_type": "code",
   "execution_count": 11,
   "id": "b0f49019-fcd6-46ac-84b8-6abf4bffb135",
   "metadata": {},
   "outputs": [
    {
     "name": "stderr",
     "output_type": "stream",
     "text": [
      "3175000it [01:15, 41843.84it/s]\n"
     ]
    }
   ],
   "source": [
    "prepare_data = []\n",
    "for (user, treatment), row in tqdm(sessions.iterrows()):\n",
    "    for track, time in zip(row['track'], row['time']):\n",
    "        new_record = {\n",
    "            'user': user,\n",
    "            'first_track': row['track'][0],\n",
    "            'track': track,\n",
    "            'time': time}\n",
    "        prepare_data.append(new_record)\n",
    "\n",
    "# with open('../data/prepare_data.json', 'w') as f:\n",
    "#   json.dump(prepare_date, f)"
   ]
  },
  {
   "cell_type": "code",
   "execution_count": 12,
   "id": "b73a8082-690a-4a72-b461-0377fc4380b7",
   "metadata": {},
   "outputs": [],
   "source": [
    "df = pd.DataFrame(prepare_data)\n",
    "df = df[df.first_track != df.track]\n",
    "df.to_csv('../data/data.csv', index=False)"
   ]
  },
  {
   "cell_type": "code",
   "execution_count": 13,
   "id": "19098e17-7c35-4e2a-9d86-394314e73ec0",
   "metadata": {},
   "outputs": [
    {
     "data": {
      "text/plain": [
       "20526321"
      ]
     },
     "execution_count": 13,
     "metadata": {},
     "output_type": "execute_result"
    }
   ],
   "source": [
    "len(df)"
   ]
  },
  {
   "cell_type": "code",
   "execution_count": 14,
   "id": "7d422ad7-daba-405b-b064-31c3b9b14a3a",
   "metadata": {},
   "outputs": [
    {
     "data": {
      "text/plain": [
       "43481"
      ]
     },
     "execution_count": 14,
     "metadata": {},
     "output_type": "execute_result"
    }
   ],
   "source": [
    "df.first_track.nunique()"
   ]
  },
  {
   "cell_type": "code",
   "execution_count": null,
   "id": "3f5aba79-e8d0-4709-9767-81c25fe1233d",
   "metadata": {},
   "outputs": [],
   "source": []
  }
 ],
 "metadata": {
  "kernelspec": {
   "display_name": "Python 3 (ipykernel)",
   "language": "python",
   "name": "python3"
  },
  "language_info": {
   "codemirror_mode": {
    "name": "ipython",
    "version": 3
   },
   "file_extension": ".py",
   "mimetype": "text/x-python",
   "name": "python",
   "nbconvert_exporter": "python",
   "pygments_lexer": "ipython3",
   "version": "3.11.8"
  }
 },
 "nbformat": 4,
 "nbformat_minor": 5
}
